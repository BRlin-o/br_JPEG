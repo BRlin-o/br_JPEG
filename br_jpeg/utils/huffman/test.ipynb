{
 "cells": [
  {
   "cell_type": "code",
   "execution_count": 8,
   "metadata": {},
   "outputs": [
    {
     "name": "stdout",
     "output_type": "stream",
     "text": [
      "{'a1': '00', 'a2': '01', 'b': '10', 'd': '110', 'c2': '1110', 'c1': '11110'}\n"
     ]
    },
    {
     "data": {
      "application/vnd.plotly.v1+json": {
       "config": {
        "plotlyServerURL": "https://plot.ly"
       },
       "data": [
        {
         "mode": "lines",
         "type": "scatter",
         "x": [
          0,
          -1,
          null,
          0,
          1,
          null,
          -1,
          -2,
          null,
          -1,
          0,
          null,
          1,
          0,
          null,
          1,
          2,
          null,
          0,
          -1,
          null,
          0,
          1,
          null,
          -1,
          -2,
          null,
          -1,
          0,
          null,
          -2,
          -3,
          null,
          -2,
          -1,
          null
         ],
         "y": [
          0,
          -1,
          null,
          0,
          -1,
          null,
          -1,
          -2,
          null,
          -1,
          -2,
          null,
          -1,
          -2,
          null,
          -1,
          -2,
          null,
          -2,
          -3,
          null,
          -2,
          -3,
          null,
          -3,
          -4,
          null,
          -3,
          -4,
          null,
          -4,
          -5,
          null,
          -4,
          -5,
          null
         ]
        },
        {
         "mode": "markers+text",
         "text": [
          "16",
          "6",
          "10",
          "b\n3",
          "3",
          "a2\n5",
          "a1\n5",
          "1",
          "d\n2",
          "0",
          "c2\n1",
          "虛擬符號\n-1",
          "c1\n1"
         ],
         "textposition": "bottom center",
         "type": "scatter",
         "x": [
          0,
          -1,
          1,
          -2,
          0,
          0,
          2,
          -1,
          1,
          -2,
          0,
          -3,
          -1
         ],
         "y": [
          0,
          -1,
          -1,
          -2,
          -2,
          -2,
          -2,
          -3,
          -3,
          -4,
          -4,
          -5,
          -5
         ]
        }
       ],
       "layout": {
        "showlegend": false,
        "template": {
         "data": {
          "bar": [
           {
            "error_x": {
             "color": "#2a3f5f"
            },
            "error_y": {
             "color": "#2a3f5f"
            },
            "marker": {
             "line": {
              "color": "#E5ECF6",
              "width": 0.5
             },
             "pattern": {
              "fillmode": "overlay",
              "size": 10,
              "solidity": 0.2
             }
            },
            "type": "bar"
           }
          ],
          "barpolar": [
           {
            "marker": {
             "line": {
              "color": "#E5ECF6",
              "width": 0.5
             },
             "pattern": {
              "fillmode": "overlay",
              "size": 10,
              "solidity": 0.2
             }
            },
            "type": "barpolar"
           }
          ],
          "carpet": [
           {
            "aaxis": {
             "endlinecolor": "#2a3f5f",
             "gridcolor": "white",
             "linecolor": "white",
             "minorgridcolor": "white",
             "startlinecolor": "#2a3f5f"
            },
            "baxis": {
             "endlinecolor": "#2a3f5f",
             "gridcolor": "white",
             "linecolor": "white",
             "minorgridcolor": "white",
             "startlinecolor": "#2a3f5f"
            },
            "type": "carpet"
           }
          ],
          "choropleth": [
           {
            "colorbar": {
             "outlinewidth": 0,
             "ticks": ""
            },
            "type": "choropleth"
           }
          ],
          "contour": [
           {
            "colorbar": {
             "outlinewidth": 0,
             "ticks": ""
            },
            "colorscale": [
             [
              0,
              "#0d0887"
             ],
             [
              0.1111111111111111,
              "#46039f"
             ],
             [
              0.2222222222222222,
              "#7201a8"
             ],
             [
              0.3333333333333333,
              "#9c179e"
             ],
             [
              0.4444444444444444,
              "#bd3786"
             ],
             [
              0.5555555555555556,
              "#d8576b"
             ],
             [
              0.6666666666666666,
              "#ed7953"
             ],
             [
              0.7777777777777778,
              "#fb9f3a"
             ],
             [
              0.8888888888888888,
              "#fdca26"
             ],
             [
              1,
              "#f0f921"
             ]
            ],
            "type": "contour"
           }
          ],
          "contourcarpet": [
           {
            "colorbar": {
             "outlinewidth": 0,
             "ticks": ""
            },
            "type": "contourcarpet"
           }
          ],
          "heatmap": [
           {
            "colorbar": {
             "outlinewidth": 0,
             "ticks": ""
            },
            "colorscale": [
             [
              0,
              "#0d0887"
             ],
             [
              0.1111111111111111,
              "#46039f"
             ],
             [
              0.2222222222222222,
              "#7201a8"
             ],
             [
              0.3333333333333333,
              "#9c179e"
             ],
             [
              0.4444444444444444,
              "#bd3786"
             ],
             [
              0.5555555555555556,
              "#d8576b"
             ],
             [
              0.6666666666666666,
              "#ed7953"
             ],
             [
              0.7777777777777778,
              "#fb9f3a"
             ],
             [
              0.8888888888888888,
              "#fdca26"
             ],
             [
              1,
              "#f0f921"
             ]
            ],
            "type": "heatmap"
           }
          ],
          "heatmapgl": [
           {
            "colorbar": {
             "outlinewidth": 0,
             "ticks": ""
            },
            "colorscale": [
             [
              0,
              "#0d0887"
             ],
             [
              0.1111111111111111,
              "#46039f"
             ],
             [
              0.2222222222222222,
              "#7201a8"
             ],
             [
              0.3333333333333333,
              "#9c179e"
             ],
             [
              0.4444444444444444,
              "#bd3786"
             ],
             [
              0.5555555555555556,
              "#d8576b"
             ],
             [
              0.6666666666666666,
              "#ed7953"
             ],
             [
              0.7777777777777778,
              "#fb9f3a"
             ],
             [
              0.8888888888888888,
              "#fdca26"
             ],
             [
              1,
              "#f0f921"
             ]
            ],
            "type": "heatmapgl"
           }
          ],
          "histogram": [
           {
            "marker": {
             "pattern": {
              "fillmode": "overlay",
              "size": 10,
              "solidity": 0.2
             }
            },
            "type": "histogram"
           }
          ],
          "histogram2d": [
           {
            "colorbar": {
             "outlinewidth": 0,
             "ticks": ""
            },
            "colorscale": [
             [
              0,
              "#0d0887"
             ],
             [
              0.1111111111111111,
              "#46039f"
             ],
             [
              0.2222222222222222,
              "#7201a8"
             ],
             [
              0.3333333333333333,
              "#9c179e"
             ],
             [
              0.4444444444444444,
              "#bd3786"
             ],
             [
              0.5555555555555556,
              "#d8576b"
             ],
             [
              0.6666666666666666,
              "#ed7953"
             ],
             [
              0.7777777777777778,
              "#fb9f3a"
             ],
             [
              0.8888888888888888,
              "#fdca26"
             ],
             [
              1,
              "#f0f921"
             ]
            ],
            "type": "histogram2d"
           }
          ],
          "histogram2dcontour": [
           {
            "colorbar": {
             "outlinewidth": 0,
             "ticks": ""
            },
            "colorscale": [
             [
              0,
              "#0d0887"
             ],
             [
              0.1111111111111111,
              "#46039f"
             ],
             [
              0.2222222222222222,
              "#7201a8"
             ],
             [
              0.3333333333333333,
              "#9c179e"
             ],
             [
              0.4444444444444444,
              "#bd3786"
             ],
             [
              0.5555555555555556,
              "#d8576b"
             ],
             [
              0.6666666666666666,
              "#ed7953"
             ],
             [
              0.7777777777777778,
              "#fb9f3a"
             ],
             [
              0.8888888888888888,
              "#fdca26"
             ],
             [
              1,
              "#f0f921"
             ]
            ],
            "type": "histogram2dcontour"
           }
          ],
          "mesh3d": [
           {
            "colorbar": {
             "outlinewidth": 0,
             "ticks": ""
            },
            "type": "mesh3d"
           }
          ],
          "parcoords": [
           {
            "line": {
             "colorbar": {
              "outlinewidth": 0,
              "ticks": ""
             }
            },
            "type": "parcoords"
           }
          ],
          "pie": [
           {
            "automargin": true,
            "type": "pie"
           }
          ],
          "scatter": [
           {
            "fillpattern": {
             "fillmode": "overlay",
             "size": 10,
             "solidity": 0.2
            },
            "type": "scatter"
           }
          ],
          "scatter3d": [
           {
            "line": {
             "colorbar": {
              "outlinewidth": 0,
              "ticks": ""
             }
            },
            "marker": {
             "colorbar": {
              "outlinewidth": 0,
              "ticks": ""
             }
            },
            "type": "scatter3d"
           }
          ],
          "scattercarpet": [
           {
            "marker": {
             "colorbar": {
              "outlinewidth": 0,
              "ticks": ""
             }
            },
            "type": "scattercarpet"
           }
          ],
          "scattergeo": [
           {
            "marker": {
             "colorbar": {
              "outlinewidth": 0,
              "ticks": ""
             }
            },
            "type": "scattergeo"
           }
          ],
          "scattergl": [
           {
            "marker": {
             "colorbar": {
              "outlinewidth": 0,
              "ticks": ""
             }
            },
            "type": "scattergl"
           }
          ],
          "scattermapbox": [
           {
            "marker": {
             "colorbar": {
              "outlinewidth": 0,
              "ticks": ""
             }
            },
            "type": "scattermapbox"
           }
          ],
          "scatterpolar": [
           {
            "marker": {
             "colorbar": {
              "outlinewidth": 0,
              "ticks": ""
             }
            },
            "type": "scatterpolar"
           }
          ],
          "scatterpolargl": [
           {
            "marker": {
             "colorbar": {
              "outlinewidth": 0,
              "ticks": ""
             }
            },
            "type": "scatterpolargl"
           }
          ],
          "scatterternary": [
           {
            "marker": {
             "colorbar": {
              "outlinewidth": 0,
              "ticks": ""
             }
            },
            "type": "scatterternary"
           }
          ],
          "surface": [
           {
            "colorbar": {
             "outlinewidth": 0,
             "ticks": ""
            },
            "colorscale": [
             [
              0,
              "#0d0887"
             ],
             [
              0.1111111111111111,
              "#46039f"
             ],
             [
              0.2222222222222222,
              "#7201a8"
             ],
             [
              0.3333333333333333,
              "#9c179e"
             ],
             [
              0.4444444444444444,
              "#bd3786"
             ],
             [
              0.5555555555555556,
              "#d8576b"
             ],
             [
              0.6666666666666666,
              "#ed7953"
             ],
             [
              0.7777777777777778,
              "#fb9f3a"
             ],
             [
              0.8888888888888888,
              "#fdca26"
             ],
             [
              1,
              "#f0f921"
             ]
            ],
            "type": "surface"
           }
          ],
          "table": [
           {
            "cells": {
             "fill": {
              "color": "#EBF0F8"
             },
             "line": {
              "color": "white"
             }
            },
            "header": {
             "fill": {
              "color": "#C8D4E3"
             },
             "line": {
              "color": "white"
             }
            },
            "type": "table"
           }
          ]
         },
         "layout": {
          "annotationdefaults": {
           "arrowcolor": "#2a3f5f",
           "arrowhead": 0,
           "arrowwidth": 1
          },
          "autotypenumbers": "strict",
          "coloraxis": {
           "colorbar": {
            "outlinewidth": 0,
            "ticks": ""
           }
          },
          "colorscale": {
           "diverging": [
            [
             0,
             "#8e0152"
            ],
            [
             0.1,
             "#c51b7d"
            ],
            [
             0.2,
             "#de77ae"
            ],
            [
             0.3,
             "#f1b6da"
            ],
            [
             0.4,
             "#fde0ef"
            ],
            [
             0.5,
             "#f7f7f7"
            ],
            [
             0.6,
             "#e6f5d0"
            ],
            [
             0.7,
             "#b8e186"
            ],
            [
             0.8,
             "#7fbc41"
            ],
            [
             0.9,
             "#4d9221"
            ],
            [
             1,
             "#276419"
            ]
           ],
           "sequential": [
            [
             0,
             "#0d0887"
            ],
            [
             0.1111111111111111,
             "#46039f"
            ],
            [
             0.2222222222222222,
             "#7201a8"
            ],
            [
             0.3333333333333333,
             "#9c179e"
            ],
            [
             0.4444444444444444,
             "#bd3786"
            ],
            [
             0.5555555555555556,
             "#d8576b"
            ],
            [
             0.6666666666666666,
             "#ed7953"
            ],
            [
             0.7777777777777778,
             "#fb9f3a"
            ],
            [
             0.8888888888888888,
             "#fdca26"
            ],
            [
             1,
             "#f0f921"
            ]
           ],
           "sequentialminus": [
            [
             0,
             "#0d0887"
            ],
            [
             0.1111111111111111,
             "#46039f"
            ],
            [
             0.2222222222222222,
             "#7201a8"
            ],
            [
             0.3333333333333333,
             "#9c179e"
            ],
            [
             0.4444444444444444,
             "#bd3786"
            ],
            [
             0.5555555555555556,
             "#d8576b"
            ],
            [
             0.6666666666666666,
             "#ed7953"
            ],
            [
             0.7777777777777778,
             "#fb9f3a"
            ],
            [
             0.8888888888888888,
             "#fdca26"
            ],
            [
             1,
             "#f0f921"
            ]
           ]
          },
          "colorway": [
           "#636efa",
           "#EF553B",
           "#00cc96",
           "#ab63fa",
           "#FFA15A",
           "#19d3f3",
           "#FF6692",
           "#B6E880",
           "#FF97FF",
           "#FECB52"
          ],
          "font": {
           "color": "#2a3f5f"
          },
          "geo": {
           "bgcolor": "white",
           "lakecolor": "white",
           "landcolor": "#E5ECF6",
           "showlakes": true,
           "showland": true,
           "subunitcolor": "white"
          },
          "hoverlabel": {
           "align": "left"
          },
          "hovermode": "closest",
          "mapbox": {
           "style": "light"
          },
          "paper_bgcolor": "white",
          "plot_bgcolor": "#E5ECF6",
          "polar": {
           "angularaxis": {
            "gridcolor": "white",
            "linecolor": "white",
            "ticks": ""
           },
           "bgcolor": "#E5ECF6",
           "radialaxis": {
            "gridcolor": "white",
            "linecolor": "white",
            "ticks": ""
           }
          },
          "scene": {
           "xaxis": {
            "backgroundcolor": "#E5ECF6",
            "gridcolor": "white",
            "gridwidth": 2,
            "linecolor": "white",
            "showbackground": true,
            "ticks": "",
            "zerolinecolor": "white"
           },
           "yaxis": {
            "backgroundcolor": "#E5ECF6",
            "gridcolor": "white",
            "gridwidth": 2,
            "linecolor": "white",
            "showbackground": true,
            "ticks": "",
            "zerolinecolor": "white"
           },
           "zaxis": {
            "backgroundcolor": "#E5ECF6",
            "gridcolor": "white",
            "gridwidth": 2,
            "linecolor": "white",
            "showbackground": true,
            "ticks": "",
            "zerolinecolor": "white"
           }
          },
          "shapedefaults": {
           "line": {
            "color": "#2a3f5f"
           }
          },
          "ternary": {
           "aaxis": {
            "gridcolor": "white",
            "linecolor": "white",
            "ticks": ""
           },
           "baxis": {
            "gridcolor": "white",
            "linecolor": "white",
            "ticks": ""
           },
           "bgcolor": "#E5ECF6",
           "caxis": {
            "gridcolor": "white",
            "linecolor": "white",
            "ticks": ""
           }
          },
          "title": {
           "x": 0.05
          },
          "xaxis": {
           "automargin": true,
           "gridcolor": "white",
           "linecolor": "white",
           "ticks": "",
           "title": {
            "standoff": 15
           },
           "zerolinecolor": "white",
           "zerolinewidth": 2
          },
          "yaxis": {
           "automargin": true,
           "gridcolor": "white",
           "linecolor": "white",
           "ticks": "",
           "title": {
            "standoff": 15
           },
           "zerolinecolor": "white",
           "zerolinewidth": 2
          }
         }
        },
        "title": {
         "text": "Huffman Tree Visualization"
        }
       }
      }
     },
     "metadata": {},
     "output_type": "display_data"
    }
   ],
   "source": [
    "import plotly.graph_objects as go\n",
    "from collections import Counter, namedtuple\n",
    "import pandas as pd\n",
    "from queue import PriorityQueue\n",
    "from collections import deque\n",
    "from abc import ABC, abstractmethod\n",
    "\n",
    "class HuffmanTreeInterface(ABC):\n",
    "\n",
    "    @abstractmethod\n",
    "    def build_tree(self, data):\n",
    "        pass\n",
    "\n",
    "    @abstractmethod\n",
    "    def generate_codes(self):\n",
    "        pass\n",
    "\n",
    "    @abstractmethod\n",
    "    def to_dict(self):\n",
    "        pass\n",
    "\n",
    "\n",
    "class OptimizedHuffmanTree(HuffmanTreeInterface):\n",
    "    class _Node:\n",
    "        def __init__(self, value, freq, left_child, right_child):\n",
    "            self.value = value\n",
    "            self.freq = freq\n",
    "            self.left_child = left_child\n",
    "            self.right_child = right_child\n",
    "\n",
    "        @staticmethod\n",
    "        def init_leaf(value, freq):\n",
    "            return OptimizedHuffmanTree._Node(value, freq, None, None)\n",
    "\n",
    "        @staticmethod\n",
    "        def init_node(left_child, right_child):\n",
    "            freq = left_child.freq + right_child.freq\n",
    "            return OptimizedHuffmanTree._Node(None, freq, left_child, right_child)\n",
    "\n",
    "        def is_leaf(self):\n",
    "            return self.value is not None\n",
    "\n",
    "        def __eq__(self, other):\n",
    "            return self.__dict__ == other.__dict__\n",
    "\n",
    "        def __nq__(self, other):\n",
    "            return not (self == other)\n",
    "\n",
    "        def __lt__(self, other):\n",
    "            return self.freq < other.freq\n",
    "\n",
    "        def __le__(self, other):\n",
    "            return self.freq < other.freq or self.freq == other.freq\n",
    "\n",
    "        def __gt__(self, other):\n",
    "            return not (self <= other)\n",
    "\n",
    "        def __ge__(self, other):\n",
    "            return not (self < other)\n",
    "\n",
    "    def init(self):\n",
    "        self.key_freq = {}\n",
    "        self.key_codelen = {}\n",
    "        self.key_code = {}\n",
    "        self.__root = None\n",
    "\n",
    "    def __init__(self, data, length_limit=None):\n",
    "        self.init()\n",
    "        self.build_tree(data)\n",
    "        if length_limit is not None:\n",
    "            self.limit_code_lengths(length_limit)\n",
    "        \n",
    "    def calc_node_codeLen(self, n, codelen=0):\n",
    "        if n.value is not None:\n",
    "            self.key_codelen[n.value] = codelen\n",
    "        else:\n",
    "            self.calc_node_codeLen(n.left_child, codelen + 1)\n",
    "            self.calc_node_codeLen(n.right_child, codelen + 1)\n",
    "\n",
    "    def build_tree(self, data):\n",
    "        freq_dict = Counter(data)\n",
    "        freq_dict['虛擬符號'] = -1\n",
    "        self.key_freq = freq_dict.copy()\n",
    "        self.key_codelen = {key: 0 for key in freq_dict.keys()}\n",
    "        q = PriorityQueue()\n",
    "\n",
    "        for symbol, freq in freq_dict.items():\n",
    "            q.put(self._Node.init_leaf(symbol, freq))\n",
    "\n",
    "        while q.qsize() >= 2:\n",
    "            u = q.get()\n",
    "            v = q.get()\n",
    "            q.put(self._Node.init_node(u, v))\n",
    "\n",
    "        self.__root = q.get()\n",
    "        self.calc_node_codeLen(self.__root)\n",
    "        self.key_freq.pop('虛擬符號', None)\n",
    "        self.key_codelen.pop('虛擬符號', None)\n",
    "\n",
    "    def limit_code_lengths(self, target_length=16):\n",
    "        df = self.to_pandas(exclude_virtual=True)\n",
    "        length_counts = Counter(df['codelen'])\n",
    "        MAX_LENGTH = df['codelen'].max()\n",
    "\n",
    "        # 調整編碼長度\n",
    "        for i in range(MAX_LENGTH, target_length, -1):\n",
    "            while length_counts[i] > 0:\n",
    "                j = i - 2\n",
    "                while length_counts[j] == 0:\n",
    "                    j -= 1\n",
    "\n",
    "                length_counts[i] -= 2\n",
    "                length_counts[i - 1] += 1\n",
    "                length_counts[j + 1] += 2\n",
    "                length_counts[j] -= 1\n",
    "\n",
    "        # 更新代碼長度\n",
    "        final_lengths = []\n",
    "        for length, count in length_counts.items():\n",
    "            final_lengths.extend([length] * count)\n",
    "\n",
    "        symbols_sorted_by_freq = df.sort_values(by='freq', ascending=False)['symbol']\n",
    "        for symbol, length in zip(symbols_sorted_by_freq, final_lengths):\n",
    "            self.key_codelen[symbol] = length\n",
    "\n",
    "    def generate_codes(self, encode=False):\n",
    "        # 生成和返回霍夫曼編碼\n",
    "        df_nodes = self.to_pandas(exclude_virtual=True)\n",
    "        df_nodes.sort_values(by=['codelen', 'freq'], ascending=[True, False], inplace=True)\n",
    "\n",
    "        huffman_table = dict()\n",
    "        current_code_len = df_nodes.iloc[0]['codelen']\n",
    "        current_code_val = 0b0\n",
    "\n",
    "        for i, row in df_nodes.iterrows():\n",
    "            key = row['symbol']\n",
    "            code_len = row['codelen']\n",
    "\n",
    "            if code_len != current_code_len:\n",
    "                current_code_val <<= (code_len - current_code_len)\n",
    "                current_code_len = code_len\n",
    "\n",
    "            huffman_table[key] = f'{current_code_val:0{code_len}b}'\n",
    "            if encode:\n",
    "                huffman_table[key] = huffman_table[key].encode()\n",
    "            current_code_val += 1\n",
    "\n",
    "        self.key_code = huffman_table\n",
    "        return huffman_table\n",
    "\n",
    "    def calculate_max_min_lengths(self):\n",
    "        max_len = max(self.key_codelen.values())\n",
    "        min_len = min(self.key_codelen.values())\n",
    "        return max_len, min_len\n",
    "\n",
    "    def calculate_compressed_size(self):\n",
    "        compressed_size = 0\n",
    "        for symbol, freq in self.key_freq.items():\n",
    "            code_len = self.key_codelen.get(symbol, 0)\n",
    "            compressed_size += freq * code_len\n",
    "        return compressed_size\n",
    "\n",
    "\n",
    "    def to_dict(self):\n",
    "        # 將霍夫曼編碼轉換為字典\n",
    "        return self.to_pandas(exclude_virtual=True).set_index('symbol')['code'].to_dict()\n",
    "\n",
    "    def to_pandas(self, exclude_virtual=False):\n",
    "        data = {\n",
    "            \"symbol\": list(self.key_freq.keys()),\n",
    "            \"freq\": list(self.key_freq.values()),\n",
    "            \"codelen\": [self.key_codelen[symbol] for symbol in self.key_freq],\n",
    "            \"code\": [self.key_code.get(symbol, \"\") for symbol in self.key_freq]\n",
    "        }\n",
    "        df = pd.DataFrame(data)\n",
    "\n",
    "        if exclude_virtual:\n",
    "            df = df[df['symbol'] != '虛擬符號']\n",
    "\n",
    "        return df.sort_values(by=['codelen', 'freq'], ascending=[True, False])\n",
    "    \n",
    "    def visualize_tree(self):\n",
    "        x_values, y_values, texts = [], [], []\n",
    "        edges_x, edges_y = [], []\n",
    "\n",
    "        node_queue = deque([(self.__root, 0, 0)])  # (node, x, y)\n",
    "\n",
    "        while node_queue:\n",
    "            node, x, y = node_queue.popleft()\n",
    "            x_values.append(x)\n",
    "            y_values.append(y)\n",
    "            node_label = f\"{node.value}\\n{node.freq}\" if node.is_leaf() else f\"{node.freq}\"\n",
    "            texts.append(node_label)\n",
    "\n",
    "            if node.left_child:\n",
    "                # 左子節點位置\n",
    "                edges_x.extend([x, x - 1, None])\n",
    "                edges_y.extend([y, y - 1, None])\n",
    "                node_queue.append((node.left_child, x - 1, y - 1))\n",
    "\n",
    "            if node.right_child:\n",
    "                # 右子節點位置\n",
    "                edges_x.extend([x, x + 1, None])\n",
    "                edges_y.extend([y, y - 1, None])\n",
    "                node_queue.append((node.right_child, x + 1, y - 1))\n",
    "\n",
    "        trace_nodes = go.Scatter(x=x_values, y=y_values, text=texts, mode='markers+text', textposition='bottom center')\n",
    "        trace_edges = go.Scatter(x=edges_x, y=edges_y, mode='lines')\n",
    "\n",
    "        fig = go.Figure(data=[trace_edges, trace_nodes], layout=go.Layout(title='Huffman Tree Visualization', showlegend=False))\n",
    "        fig.show()\n",
    "\n",
    "if __name__ == \"__main__\":\n",
    "    test_arr = {'a1': 5, 'a2': 5, 'b': 3, 'c1': 1, 'c2': 1, 'd': 2} ## key: freq\n",
    "    huf_tree = OptimizedHuffmanTree(test_arr)\n",
    "    huf_tree.generate_codes()\n",
    "    print(huf_tree.to_dict())\n",
    "    huf_tree.visualize_tree()"
   ]
  },
  {
   "cell_type": "code",
   "execution_count": null,
   "metadata": {},
   "outputs": [],
   "source": []
  }
 ],
 "metadata": {
  "kernelspec": {
   "display_name": "DataHiding",
   "language": "python",
   "name": "python3"
  },
  "language_info": {
   "codemirror_mode": {
    "name": "ipython",
    "version": 3
   },
   "file_extension": ".py",
   "mimetype": "text/x-python",
   "name": "python",
   "nbconvert_exporter": "python",
   "pygments_lexer": "ipython3",
   "version": "3.10.9"
  }
 },
 "nbformat": 4,
 "nbformat_minor": 2
}
